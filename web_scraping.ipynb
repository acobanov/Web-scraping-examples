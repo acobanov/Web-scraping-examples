{
 "cells": [
  {
   "cell_type": "markdown",
   "metadata": {},
   "source": [
    "**Installing packages** instructions: <br/>\n",
    "(base) C:\\Users\\Ante>conda activate \"py36\"<br/>\n",
    "(py36) C:\\Users\\Ante>pip install selenium<br/>\n",
    "(py36) C:\\Users\\Ante>pip install bs4<br/>\n",
    " etc <br/>\n",
    "\n",
    "**Saving** a jupyter notebook file to specific folder on your PC: <br/>\n",
    "File -> Download as -> Notebook(.ipynb)<br/>\n",
    "\n",
    "**Selenium WebDriver** is  popular tool for Web UI Automation <br/>\n",
    "This means the automatic execution of the ALL actions performed in a web browser window. <br/>\n",
    "It can interact with all types of Web browsers: Firefox, Internet Explorer, Safari, Chrome, etc.<br/>\n",
    "\n",
    "**Beautiful Soup** is a Python library for pulling data out of HTML and XML files."
   ]
  },
  {
   "cell_type": "code",
   "execution_count": 1,
   "metadata": {},
   "outputs": [],
   "source": [
    "#add packages\n",
    "from selenium import webdriver\n",
    "from bs4 import BeautifulSoup\n",
    "import time\n",
    "import pandas as pd\n",
    "import os\n",
    "from datetime import datetime\n",
    "import jsonlines\n",
    "from termcolor import cprint\n",
    "from selenium.webdriver.chrome.options import Options"
   ]
  },
  {
   "cell_type": "code",
   "execution_count": 2,
   "metadata": {},
   "outputs": [
    {
     "name": "stdout",
     "output_type": "stream",
     "text": [
      "Current working directory:  C:\\Users\\Ante\\Documents\\GitHub\\Web-scraping-examples\n"
     ]
    }
   ],
   "source": [
    "#set working directory(wd)\n",
    "# wd='your working directory'\n",
    "#os.chdir(wd)\n",
    "print('Current working directory: ' ,os.getcwd())"
   ]
  },
  {
   "cell_type": "markdown",
   "metadata": {},
   "source": [
    "We will use **Chrome** web browser. <br/>\n",
    "-download webdriver: **chromedriver.exe**<br/>\n",
    "-set chrome options (webdriver can open browser window silently in background)<br/>\n",
    "-to get the HTML source code for the full page use **page_source** property\n"
   ]
  },
  {
   "cell_type": "code",
   "execution_count": 55,
   "metadata": {},
   "outputs": [],
   "source": [
    "#set path to Chrome\n",
    "chrome_path= 'C:/Program Files (x86)/Google/Chrome/Application/chrome.exe'\n",
    "#set path to downloaded Chrome driver\n",
    "chromedriver_path = 'C:/Program Files (x86)/Google/Chrome/Application/chromedriver.exe'\n",
    "window_size = \"1920,1080\"\n",
    "\n",
    "#set Chrome options\n",
    "chrome_options = Options()  \n",
    "chrome_options.add_argument(\"--headless\")  \n",
    "chrome_options.add_argument(\"--window-size=%s\" % window_size)\n",
    "chrome_options.binary_location = chrome_path\n",
    "\n",
    "#set path to web page\n",
    "wb_path='https://webscraper.io/test-sites/e-commerce/allinone'"
   ]
  },
  {
   "cell_type": "code",
   "execution_count": 56,
   "metadata": {},
   "outputs": [
    {
     "data": {
      "text/plain": [
       "True"
      ]
     },
     "execution_count": 56,
     "metadata": {},
     "output_type": "execute_result"
    }
   ],
   "source": [
    "#driver\n",
    "driver=webdriver.Chrome(executable_path=chromedriver_path,options=chrome_options)\n",
    "\n",
    "#get html source code and current time\n",
    "time.sleep(7)\n",
    "driver.get(wb_path)\n",
    "time.sleep(4)\n",
    "html=driver.page_source\n",
    "now=datetime.now()\n",
    "current_time = now.strftime(\"%Y_%m_%d-%H_%M\")\n",
    "\n",
    "#print screen (capture)\n",
    "capture_name='capture_'+current_time+'.png'\n",
    "driver.get_screenshot_as_file(capture_name)"
   ]
  },
  {
   "cell_type": "markdown",
   "metadata": {},
   "source": [
    "-saving HTML code as text file <br/>\n",
    "-the strftime() method returns a string representing date and time (using date, time or datetime object)<br/>\n"
   ]
  },
  {
   "cell_type": "code",
   "execution_count": 57,
   "metadata": {},
   "outputs": [
    {
     "name": "stdout",
     "output_type": "stream",
     "text": [
      "HTML source code successfully saved to file:  html_code_2020_04_01-14_38.txt\n"
     ]
    }
   ],
   "source": [
    "current_time = now.strftime(\"%Y_%m_%d-%H_%M\")\n",
    "file_name='html_code_'+current_time+'.txt'\n",
    "with open(file_name, \"w\", encoding=\"utf-8\") as f:\n",
    "    f.write(html)\n",
    "    f.close()\n",
    "print('HTML source code successfully saved to file: ',file_name)    "
   ]
  },
  {
   "cell_type": "markdown",
   "metadata": {},
   "source": [
    "We have assigned HTML source code to variable html.<br/>\n",
    "For pulling data out of HTML code we use **BeautifulSoup**.<br/>\n",
    "\n",
    "Another way is to use methods to locate element in a page: <br/>\n",
    "find_element_by_id, find_element_by_name, find_element_by_class_name,find_element_by_css_selector, etc <br/>\n",
    "Or, to use methods to locate element*s* in a page (that return list): <br/>\n",
    "find_element*s*_by_id, find_element*s*_by_name, find_element*s*_by_class_name,find_element*s*_by_css_selector, etc <br/>\n",
    "\n",
    "**But**, if information on the website changes frequently, the best practice is to: <br/>\n",
    "**First assign HTML source code to a variable and then pull all information from that variable.**"
   ]
  },
  {
   "cell_type": "code",
   "execution_count": 58,
   "metadata": {},
   "outputs": [],
   "source": [
    "soup=BeautifulSoup(html,'html')"
   ]
  },
  {
   "cell_type": "markdown",
   "metadata": {},
   "source": [
    "find_all() method returns list of all selected tags.<br/>\n",
    "Tag may have any number of attributes.<br/>\n",
    "For example, tag < h4 id='ante' > has an attribute 'id' whose value is 'ante'.<br/>\n",
    "You can  access a tag's attributes by treating the tag like a dictionary.<br/>\n",
    "You can access that dictionary directly as tag.attrs.<br/>"
   ]
  },
  {
   "cell_type": "code",
   "execution_count": 59,
   "metadata": {},
   "outputs": [
    {
     "name": "stdout",
     "output_type": "stream",
     "text": [
      "\u001b[1m\u001b[31mList of tags: \u001b[0m\n",
      "[<h4 class=\"pull-right price\">$454.62</h4>, <h4>\n",
      "<a class=\"title\" href=\"/test-sites/e-commerce/allinone/product/272\" title=\"Acer Aspire ES1-572 Black\">Acer Aspire ES1-...</a>\n",
      "</h4>, <h4 class=\"pull-right price\">$679.00</h4>, <h4>\n",
      "<a class=\"title\" href=\"/test-sites/e-commerce/allinone/product/239\" title=\"Acer Aspire A515-51-5654\">Acer Aspire A515...</a>\n",
      "</h4>, <h4 class=\"pull-right price\">$1178.19</h4>, <h4>\n",
      "<a class=\"title\" href=\"/test-sites/e-commerce/allinone/product/308\" title=\"Dell Latitude 5580\">Dell Latitude 55...</a>\n",
      "</h4>]\n",
      "\u001b[1m\u001b[31mList of text: \u001b[0m\n",
      "['$454.62', '\\nAcer Aspire ES1-...\\n', '$679.00', '\\nAcer Aspire A515...\\n', '$1178.19', '\\nDell Latitude 55...\\n']\n"
     ]
    }
   ],
   "source": [
    "tag='h4'\n",
    "list_tags=soup.find_all(tag)\n",
    "list_text=[listElement.text for listElement in list_tags]\n",
    "cprint('List of tags: ', 'red', attrs=['bold'])\n",
    "print(list_tags)\n",
    "cprint('List of text: ','red', attrs=['bold'])\n",
    "print(list_text)"
   ]
  },
  {
   "cell_type": "code",
   "execution_count": 60,
   "metadata": {},
   "outputs": [
    {
     "data": {
      "text/plain": [
       "{'class': ['pull-right', 'price']}"
      ]
     },
     "execution_count": 60,
     "metadata": {},
     "output_type": "execute_result"
    }
   ],
   "source": [
    "select_tag=list_tags[0]\n",
    "select_tag.attrs"
   ]
  },
  {
   "cell_type": "code",
   "execution_count": 63,
   "metadata": {},
   "outputs": [],
   "source": [
    "with jsonlines.open('all_data',mode='a') as writer:\n",
    "    writer.write(select_tag.attrs)"
   ]
  },
  {
   "cell_type": "code",
   "execution_count": null,
   "metadata": {},
   "outputs": [],
   "source": []
  }
 ],
 "metadata": {
  "kernelspec": {
   "display_name": "Python 3",
   "language": "python",
   "name": "python3"
  },
  "language_info": {
   "codemirror_mode": {
    "name": "ipython",
    "version": 3
   },
   "file_extension": ".py",
   "mimetype": "text/x-python",
   "name": "python",
   "nbconvert_exporter": "python",
   "pygments_lexer": "ipython3",
   "version": "3.6.8"
  }
 },
 "nbformat": 4,
 "nbformat_minor": 2
}
