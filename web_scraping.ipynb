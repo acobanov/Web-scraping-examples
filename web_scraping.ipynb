{
 "cells": [
  {
   "cell_type": "markdown",
   "metadata": {},
   "source": [
    "To install packages: <br/>\n",
    "(base) C:\\Users\\Ante>conda activate \"py36\"<br/>\n",
    "(py36) C:\\Users\\Ante>pip install selenium<br/>\n",
    "(py36) C:\\Users\\Ante>pip install bs4<br/>\n",
    "\n",
    "To save jupyter notebook file to specific folder on your PC use: <br/>\n",
    "File -> Download as -> Notebook(.ipynb)<br/>\n",
    "\n",
    "**Selenium WebDriver** is  popular tool for Web UI Automation <br/>\n",
    "This means the automatic execution of the ALL actions performed in a web browser window. <br/>\n",
    "It can interact with all types of Web browsers: Firefox, Internet Explorer, Safari, and Chrome, etc.<br/>\n",
    "\n",
    "**Beautiful Soup** is a Python library for pulling data out of HTML and XML files."
   ]
  },
  {
   "cell_type": "code",
   "execution_count": 35,
   "metadata": {},
   "outputs": [],
   "source": [
    "#add packages\n",
    "from selenium import webdriver\n",
    "from bs4 import BeautifulSoup\n",
    "import time\n",
    "import pandas as pd\n",
    "import os"
   ]
  },
  {
   "cell_type": "code",
   "execution_count": 36,
   "metadata": {},
   "outputs": [
    {
     "name": "stdout",
     "output_type": "stream",
     "text": [
      "Current working directory:  C:\\Users\\Ante\\Documents\\GitHub\\Web-scraping-examples\n"
     ]
    }
   ],
   "source": [
    "#set working directory(wd)\n",
    "wd='C:/Users/Ante/Documents/GitHub/Web-scraping-examples'\n",
    "os.chdir(wd)\n",
    "print('Current working directory: ' ,os.getcwd())"
   ]
  },
  {
   "cell_type": "markdown",
   "metadata": {},
   "source": [
    "We will use **Chrome** web browser. <br/>\n",
    "First you need to download: **chromedriver.exe.**<br/>\n",
    "To get the HTML source for the full page use **page_source** property."
   ]
  },
  {
   "cell_type": "code",
   "execution_count": 40,
   "metadata": {},
   "outputs": [],
   "source": [
    "driver=webdriver.Chrome('C:/Program Files (x86)/Google/Chrome/Application/chromedriver.exe')\n",
    "time.sleep(7)\n",
    "driver.get('https://webscraper.io/test-sites/e-commerce/allinone')\n",
    "time.sleep(4)\n",
    "html=driver.page_source"
   ]
  },
  {
   "cell_type": "markdown",
   "metadata": {},
   "source": [
    "Save HTML code as text file"
   ]
  },
  {
   "cell_type": "code",
   "execution_count": 42,
   "metadata": {},
   "outputs": [],
   "source": [
    "file_name='html_code2.txt'\n",
    "with open(file_name, \"w\", encoding=\"utf-8\") as f:\n",
    "    f.write(html)\n",
    "    f.close()"
   ]
  },
  {
   "cell_type": "markdown",
   "metadata": {},
   "source": [
    "We have assigned HTML source code to variable html.<br/>\n",
    "For pulling data out of HTML code we use **BeautifulSoup**.<br/>\n",
    "\n",
    "Another way is to use methods to locate element in a page: <br/>\n",
    "find_element_by_id, find_element_by_name, find_element_by_class_name,find_element_by_css_selector, etc <br/>\n",
    "Or, to use methods to locate element*s* in a page (that return list): <br/>\n",
    "find_element*s*_by_id, find_element*s*_by_name, find_element*s*_by_class_name,find_element*s*_by_css_selector, etc <br/>\n",
    "\n",
    "**But**, if information on the website changes frequently, the best practice is to: <br/>\n",
    "**First assign HTML source code to a variable and then pull all information from that variable.**"
   ]
  },
  {
   "cell_type": "code",
   "execution_count": 43,
   "metadata": {},
   "outputs": [],
   "source": [
    "soup=BeautifulSoup(html,'html')"
   ]
  },
  {
   "cell_type": "code",
   "execution_count": 44,
   "metadata": {},
   "outputs": [
    {
     "name": "stdout",
     "output_type": "stream",
     "text": [
      "[<h4 class=\"pull-right price\">$809.00</h4>, <h4>\n",
      "<a class=\"title\" href=\"/test-sites/e-commerce/allinone/product/243\" title=\"Acer Nitro 5 AN515-51\">Acer Nitro 5 AN5...</a>\n",
      "</h4>, <h4 class=\"pull-right price\">$1238.37</h4>, <h4>\n",
      "<a class=\"title\" href=\"/test-sites/e-commerce/allinone/product/319\" title=\"Dell Latitude 5480\">Dell Latitude 54...</a>\n",
      "</h4>, <h4 class=\"pull-right price\">$484.23</h4>, <h4>\n",
      "<a class=\"title\" href=\"/test-sites/e-commerce/allinone/product/278\" title=\"Lenovo V510 Black\">Lenovo V510 Blac...</a>\n",
      "</h4>]\n",
      "['$809.00', '\\nAcer Nitro 5 AN5...\\n', '$1238.37', '\\nDell Latitude 54...\\n', '$484.23', '\\nLenovo V510 Blac...\\n']\n"
     ]
    }
   ],
   "source": [
    "list1=soup.find_all('h4')\n",
    "list2=[listElement.text for listElement in list1]\n",
    "print(list1)\n",
    "print(list2)"
   ]
  }
 ],
 "metadata": {
  "kernelspec": {
   "display_name": "Python 3",
   "language": "python",
   "name": "python3"
  },
  "language_info": {
   "codemirror_mode": {
    "name": "ipython",
    "version": 3
   },
   "file_extension": ".py",
   "mimetype": "text/x-python",
   "name": "python",
   "nbconvert_exporter": "python",
   "pygments_lexer": "ipython3",
   "version": "3.6.8"
  }
 },
 "nbformat": 4,
 "nbformat_minor": 2
}
